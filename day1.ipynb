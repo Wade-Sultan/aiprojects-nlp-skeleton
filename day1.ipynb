{
 "cells": [
  {
   "cell_type": "code",
   "execution_count": 1,
   "metadata": {},
   "outputs": [],
   "source": [
    "import pandas as pd\n",
    "DIR = \"aiprojects-nlp-skeleton/datasets/\"\n",
    "df = pd.read_csv(DIR+\"train.csv\")"
   ]
  },
  {
   "cell_type": "code",
   "execution_count": 2,
   "metadata": {},
   "outputs": [],
   "source": [
    "import torch as t\n",
    "import torchtext as tt\n",
    "import torch.nn as nn"
   ]
  },
  {
   "cell_type": "code",
   "execution_count": 5,
   "metadata": {},
   "outputs": [],
   "source": [
    "class NLP_model:\n",
    "    def __init__(self):\n",
    "        xlmr_base = tt.models.XLMR_BASE_ENCODER\n",
    "        model = xlmr_base.get_model()\n",
    "        self.transform = xlmr_base.transform()\n",
    "        self.out_1 = last_layer = nn.Linear(768, 100)\n",
    "        self.relu_1 = nn.ReLU()\n",
    "        self.relu_2 = nn.RelU()\n",
    "        self.out_2 = nn.linear(1200, 1)\n",
    "\n",
    "    def forward(self, x):\n",
    "        model_input = tt.functional.to_tensor(self.transform(x), padding_value=1)\n",
    "        output = model(model_input)\n",
    "        t.reshape(output, 1200)\n",
    "\n"
   ]
  },
  {
   "cell_type": "code",
   "execution_count": 6,
   "metadata": {},
   "outputs": [
    {
     "data": {
      "text/plain": [
       "torch.Size([2, 6, 768])"
      ]
     },
     "execution_count": 6,
     "metadata": {},
     "output_type": "execute_result"
    }
   ],
   "source": [
    "output.shape"
   ]
  },
  {
   "cell_type": "code",
   "execution_count": 9,
   "metadata": {},
   "outputs": [
    {
     "ename": "TypeError",
     "evalue": "flatten() got an unexpected keyword argument 'axis'",
     "output_type": "error",
     "traceback": [
      "\u001b[1;31m---------------------------------------------------------------------------\u001b[0m",
      "\u001b[1;31mTypeError\u001b[0m                                 Traceback (most recent call last)",
      "\u001b[1;32mc:\\Users\\william\\Desktop\\Software\\Development\\Projects\\ACM AI\\day1.ipynb Cell 3\u001b[0m in \u001b[0;36m<cell line: 5>\u001b[1;34m()\u001b[0m\n\u001b[0;32m      <a href='vscode-notebook-cell:/c%3A/Users/william/Desktop/Software/Development/Projects/ACM%20AI/day1.ipynb#X10sZmlsZQ%3D%3D?line=2'>3</a>\u001b[0m model_input \u001b[39m=\u001b[39m tt\u001b[39m.\u001b[39mfunctional\u001b[39m.\u001b[39mto_tensor(transform(input_batch), padding_value\u001b[39m=\u001b[39m\u001b[39m1\u001b[39m)\n\u001b[0;32m      <a href='vscode-notebook-cell:/c%3A/Users/william/Desktop/Software/Development/Projects/ACM%20AI/day1.ipynb#X10sZmlsZQ%3D%3D?line=3'>4</a>\u001b[0m output \u001b[39m=\u001b[39m model(model_input)\n\u001b[1;32m----> <a href='vscode-notebook-cell:/c%3A/Users/william/Desktop/Software/Development/Projects/ACM%20AI/day1.ipynb#X10sZmlsZQ%3D%3D?line=4'>5</a>\u001b[0m out \u001b[39m=\u001b[39m output\u001b[39m.\u001b[39;49mflatten(axis\u001b[39m=\u001b[39;49m\u001b[39m1\u001b[39;49m)\n\u001b[0;32m      <a href='vscode-notebook-cell:/c%3A/Users/william/Desktop/Software/Development/Projects/ACM%20AI/day1.ipynb#X10sZmlsZQ%3D%3D?line=5'>6</a>\u001b[0m output\u001b[39m.\u001b[39mshape\n",
      "\u001b[1;31mTypeError\u001b[0m: flatten() got an unexpected keyword argument 'axis'"
     ]
    }
   ],
   "source": [
    "transform = xlmr_base.transform()\n",
    "input_batch = [\"Hello world\", \"How are you!\"]\n",
    "\n",
    "model_input = tt.functional.to_tensor(transform(input_batch), padding_value=1)\n",
    "output = model(model_input)\n",
    "out = t.mean(output, axis=1)\n",
    "opt = t.optim.Adam()\n",
    "last_layer = nn.Linear(768, 1)\n",
    "out = nn.ReLU(last_layer)\n",
    "\n",
    "loss = nn.BCELoss(out, )"
   ]
  },
  {
   "cell_type": "code",
   "execution_count": 28,
   "metadata": {},
   "outputs": [
    {
     "data": {
      "text/plain": [
       "'Why are Americans, British, Canadians, Australians and New Zealanders considered to be separate nations even when they all speak the same language?'"
      ]
     },
     "execution_count": 28,
     "metadata": {},
     "output_type": "execute_result"
    }
   ],
   "source": [
    "df[df[\"target\"] == 1][\"question_text\"].iloc[11]"
   ]
  },
  {
   "cell_type": "code",
   "execution_count": 14,
   "metadata": {},
   "outputs": [],
   "source": [
    "df[\"length\"] = [len(text) for text in df[\"question_text\"]]"
   ]
  },
  {
   "cell_type": "code",
   "execution_count": 18,
   "metadata": {},
   "outputs": [
    {
     "data": {
      "text/plain": [
       "<AxesSubplot:xlabel='length', ylabel='Count'>"
      ]
     },
     "execution_count": 18,
     "metadata": {},
     "output_type": "execute_result"
    },
    {
     "data": {
      "image/png": "[encoded data removed]",
      "text/plain": [
       "<Figure size 432x288 with 1 Axes>"
      ]
     },
     "metadata": {
      "needs_background": "light"
     },
     "output_type": "display_data"
    }
   ],
   "source": [
    "import seaborn as sns\n",
    "sns.histplot(df, x = \"length\", hue=\"target\")"
   ]
  },
  {
   "cell_type": "code",
   "execution_count": 2,
   "metadata": {},
   "outputs": [
    {
     "name": "stdout",
     "output_type": "stream",
     "text": [
      "Why is there such a high demand for foreign doctors in Sweden?\n",
      "0\n",
      "What is the best way to assess threats of business competition from much larger corporations?\n",
      "0\n",
      "What are the necessary qualification of the members of both Rajya Sabha and Lok Sabha?\n",
      "0\n",
      "What are your dream countries to visit and why?\n"
     ]
    },
    {
     "ename": "KeyboardInterrupt",
     "evalue": "",
     "output_type": "error",
     "traceback": [
      "\u001b[1;31m---------------------------------------------------------------------------\u001b[0m",
      "\u001b[1;31mKeyboardInterrupt\u001b[0m                         Traceback (most recent call last)",
      "\u001b[1;32mc:\\Users\\william\\Desktop\\Software\\Development\\Projects\\ACM AI\\day1.ipynb Cell 2\u001b[0m in \u001b[0;36m<cell line: 8>\u001b[1;34m()\u001b[0m\n\u001b[0;32m      <a href='vscode-notebook-cell:/c%3A/Users/william/Desktop/Software/Development/Projects/ACM%20AI/day1.ipynb#W2sZmlsZQ%3D%3D?line=5'>6</a>\u001b[0m     \u001b[39mprint\u001b[39m(df\u001b[39m.\u001b[39miloc[idx][\u001b[39m\"\u001b[39m\u001b[39mtarget\u001b[39m\u001b[39m\"\u001b[39m])\n\u001b[0;32m      <a href='vscode-notebook-cell:/c%3A/Users/william/Desktop/Software/Development/Projects/ACM%20AI/day1.ipynb#W2sZmlsZQ%3D%3D?line=7'>8</a>\u001b[0m \u001b[39mfor\u001b[39;00m i \u001b[39min\u001b[39;00m \u001b[39mrange\u001b[39m(\u001b[39m100\u001b[39m):\n\u001b[1;32m----> <a href='vscode-notebook-cell:/c%3A/Users/william/Desktop/Software/Development/Projects/ACM%20AI/day1.ipynb#W2sZmlsZQ%3D%3D?line=8'>9</a>\u001b[0m     hide_and_reveal()\n",
      "\u001b[1;32mc:\\Users\\william\\Desktop\\Software\\Development\\Projects\\ACM AI\\day1.ipynb Cell 2\u001b[0m in \u001b[0;36mhide_and_reveal\u001b[1;34m()\u001b[0m\n\u001b[0;32m      <a href='vscode-notebook-cell:/c%3A/Users/william/Desktop/Software/Development/Projects/ACM%20AI/day1.ipynb#W2sZmlsZQ%3D%3D?line=2'>3</a>\u001b[0m idx \u001b[39m=\u001b[39m random\u001b[39m.\u001b[39mrandint(\u001b[39m0\u001b[39m, \u001b[39mlen\u001b[39m(df)\u001b[39m-\u001b[39m\u001b[39m1\u001b[39m)\n\u001b[0;32m      <a href='vscode-notebook-cell:/c%3A/Users/william/Desktop/Software/Development/Projects/ACM%20AI/day1.ipynb#W2sZmlsZQ%3D%3D?line=3'>4</a>\u001b[0m \u001b[39mprint\u001b[39m(df\u001b[39m.\u001b[39miloc[idx][\u001b[39m\"\u001b[39m\u001b[39mquestion_text\u001b[39m\u001b[39m\"\u001b[39m])\n\u001b[1;32m----> <a href='vscode-notebook-cell:/c%3A/Users/william/Desktop/Software/Development/Projects/ACM%20AI/day1.ipynb#W2sZmlsZQ%3D%3D?line=4'>5</a>\u001b[0m time\u001b[39m.\u001b[39;49msleep(\u001b[39m5\u001b[39;49m)\n\u001b[0;32m      <a href='vscode-notebook-cell:/c%3A/Users/william/Desktop/Software/Development/Projects/ACM%20AI/day1.ipynb#W2sZmlsZQ%3D%3D?line=5'>6</a>\u001b[0m \u001b[39mprint\u001b[39m(df\u001b[39m.\u001b[39miloc[idx][\u001b[39m\"\u001b[39m\u001b[39mtarget\u001b[39m\u001b[39m\"\u001b[39m])\n",
      "\u001b[1;31mKeyboardInterrupt\u001b[0m: "
     ]
    }
   ],
   "source": [
    "import random, time\n",
    "def hide_and_reveal():\n",
    "    idx = random.randint(0, len(df)-1)\n",
    "    print(df.iloc[idx][\"question_text\"])\n",
    "    time.sleep(10)\n",
    "    print(df.iloc[idx][\"target\"])\n",
    "\n",
    "for i in range(100):\n",
    "    hide_and_reveal()"
   ]
  }
 ],
 "metadata": {
  "kernelspec": {
   "display_name": "Python 3",
   "language": "python",
   "name": "python3"
  },
  "language_info": {
   "codemirror_mode": {
    "name": "ipython",
    "version": 3
   },
   "file_extension": ".py",
   "mimetype": "text/x-python",
   "name": "python",
   "nbconvert_exporter": "python",
   "pygments_lexer": "ipython3",
   "version": "3.10.4"
  },
  "orig_nbformat": 4,
  "vscode": {
   "interpreter": {
    "hash": "369f2c481f4da34e4445cda3fffd2e751bd1c4d706f27375911949ba6bb62e1c"
   }
  }
 },
 "nbformat": 4,
 "nbformat_minor": 2
}
